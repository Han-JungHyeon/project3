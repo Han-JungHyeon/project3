{
  "nbformat": 4,
  "nbformat_minor": 0,
  "metadata": {
    "colab": {
      "provenance": [],
      "mount_file_id": "18HhLYLUE-UsMp7L61yiQCNQrVwk1pSGU",
      "authorship_tag": "ABX9TyPgj/dkGyVZReG7uRuLOi2g",
      "include_colab_link": true
    },
    "kernelspec": {
      "name": "python3",
      "display_name": "Python 3"
    },
    "language_info": {
      "name": "python"
    }
  },
  "cells": [
    {
      "cell_type": "markdown",
      "metadata": {
        "id": "view-in-github",
        "colab_type": "text"
      },
      "source": [
        "<a href=\"https://colab.research.google.com/github/Han-JungHyeon/project3/blob/main/project3_ML.ipynb\" target=\"_parent\"><img src=\"https://colab.research.google.com/assets/colab-badge.svg\" alt=\"Open In Colab\"/></a>"
      ]
    },
    {
      "cell_type": "code",
      "source": [
        "import re\n",
        "import numpy as np\n",
        "import pandas as pd"
      ],
      "metadata": {
        "id": "gZxIte1gjE6d"
      },
      "execution_count": 1,
      "outputs": []
    },
    {
      "cell_type": "code",
      "execution_count": 2,
      "metadata": {
        "colab": {
          "base_uri": "https://localhost:8080/"
        },
        "id": "hZais22MjDBy",
        "outputId": "99ace6d4-cb37-464a-b8bb-ac81a47223ac"
      },
      "outputs": [
        {
          "output_type": "stream",
          "name": "stdout",
          "text": [
            "Mounted at /content/drive\n"
          ]
        }
      ],
      "source": [
        "from google.colab import drive\n",
        "drive.mount('/content/drive')"
      ]
    },
    {
      "cell_type": "code",
      "source": [
        "Oriental = pd.read_csv('/content/drive/MyDrive/Colab data (Project3)/Oriental_Painting.csv')\n",
        "Masterpiece = pd.read_csv('/content/drive/MyDrive/Colab data (Project3)/Masterpiece.csv')\n",
        "Abstract = pd.read_csv('/content/drive/MyDrive/Colab data (Project3)/Abstract.csv')\n",
        "Contemporary_art = pd.read_csv('/content/drive/MyDrive/Colab data (Project3)/Contemporary_Art.csv')\n",
        "Picture = pd.read_csv('/content/drive/MyDrive/Colab data (Project3)/Picture.csv')\n",
        "Illust = pd.read_csv('/content/drive/MyDrive/Colab data (Project3)/Illust.csv')\n",
        "data = pd.read_csv('/content/drive/MyDrive/Colab data (Project3)/data.csv')"
      ],
      "metadata": {
        "id": "NL8z-BT5jDY5"
      },
      "execution_count": 4,
      "outputs": []
    },
    {
      "cell_type": "code",
      "source": [
        "Masterpiece.head(6)"
      ],
      "metadata": {
        "colab": {
          "base_uri": "https://localhost:8080/",
          "height": 386
        },
        "id": "Peonaqs-qBQW",
        "outputId": "d973d2ec-6d43-4f22-86b4-1bac13e9360d"
      },
      "execution_count": 39,
      "outputs": [
        {
          "output_type": "execute_result",
          "data": {
            "text/plain": [
              "       Title                 Artist        Hash_tag    Price  \\\n",
              "0  건조대가 있는 집   에곤 쉴레 (Egon Schiele)  #표현주의 #빈티지 #인물  43,000    \n",
              "1      엄마와 딸   에곤 쉴레 (Egon Schiele)  #표현주의 #빈티지 #인물  43,000    \n",
              "2        라일락  파니 브레이트 (Fanny Brate)    #인상주의 #쉐비 #꽃  43,000    \n",
              "3        양귀비   칼 라르손 (Carl Larsson)   #수채화 #로맨틱 #풍경  43,000    \n",
              "4       마주보다   칼 라르손 (Carl Larsson)  #사실주의 #로멘틱 #힐링  43,000    \n",
              "5       숨바꼭질   칼 라르손 (Carl Larsson)  #사실주의 #소박함 #힐링  43,000    \n",
              "\n",
              "                                                 URL         Type  \n",
              "0  https://www.wart.co.kr/product/%EA%B1%B4%EC%A1...  Masterpiece  \n",
              "1  https://www.wart.co.kr/product/%EC%97%84%EB%A7...  Masterpiece  \n",
              "2  https://www.wart.co.kr/product/%EB%9D%BC%EC%9D...  Masterpiece  \n",
              "3  https://www.wart.co.kr/product/%EC%96%91%EA%B7...  Masterpiece  \n",
              "4  https://www.wart.co.kr/product/%EB%A7%88%EC%A3...  Masterpiece  \n",
              "5  https://www.wart.co.kr/product/%EC%88%A8%EB%B0...  Masterpiece  "
            ],
            "text/html": [
              "\n",
              "  <div id=\"df-72635681-af85-4abf-a418-79a413d20635\">\n",
              "    <div class=\"colab-df-container\">\n",
              "      <div>\n",
              "<style scoped>\n",
              "    .dataframe tbody tr th:only-of-type {\n",
              "        vertical-align: middle;\n",
              "    }\n",
              "\n",
              "    .dataframe tbody tr th {\n",
              "        vertical-align: top;\n",
              "    }\n",
              "\n",
              "    .dataframe thead th {\n",
              "        text-align: right;\n",
              "    }\n",
              "</style>\n",
              "<table border=\"1\" class=\"dataframe\">\n",
              "  <thead>\n",
              "    <tr style=\"text-align: right;\">\n",
              "      <th></th>\n",
              "      <th>Title</th>\n",
              "      <th>Artist</th>\n",
              "      <th>Hash_tag</th>\n",
              "      <th>Price</th>\n",
              "      <th>URL</th>\n",
              "      <th>Type</th>\n",
              "    </tr>\n",
              "  </thead>\n",
              "  <tbody>\n",
              "    <tr>\n",
              "      <th>0</th>\n",
              "      <td>건조대가 있는 집</td>\n",
              "      <td>에곤 쉴레 (Egon Schiele)</td>\n",
              "      <td>#표현주의 #빈티지 #인물</td>\n",
              "      <td>43,000</td>\n",
              "      <td>https://www.wart.co.kr/product/%EA%B1%B4%EC%A1...</td>\n",
              "      <td>Masterpiece</td>\n",
              "    </tr>\n",
              "    <tr>\n",
              "      <th>1</th>\n",
              "      <td>엄마와 딸</td>\n",
              "      <td>에곤 쉴레 (Egon Schiele)</td>\n",
              "      <td>#표현주의 #빈티지 #인물</td>\n",
              "      <td>43,000</td>\n",
              "      <td>https://www.wart.co.kr/product/%EC%97%84%EB%A7...</td>\n",
              "      <td>Masterpiece</td>\n",
              "    </tr>\n",
              "    <tr>\n",
              "      <th>2</th>\n",
              "      <td>라일락</td>\n",
              "      <td>파니 브레이트 (Fanny Brate)</td>\n",
              "      <td>#인상주의 #쉐비 #꽃</td>\n",
              "      <td>43,000</td>\n",
              "      <td>https://www.wart.co.kr/product/%EB%9D%BC%EC%9D...</td>\n",
              "      <td>Masterpiece</td>\n",
              "    </tr>\n",
              "    <tr>\n",
              "      <th>3</th>\n",
              "      <td>양귀비</td>\n",
              "      <td>칼 라르손 (Carl Larsson)</td>\n",
              "      <td>#수채화 #로맨틱 #풍경</td>\n",
              "      <td>43,000</td>\n",
              "      <td>https://www.wart.co.kr/product/%EC%96%91%EA%B7...</td>\n",
              "      <td>Masterpiece</td>\n",
              "    </tr>\n",
              "    <tr>\n",
              "      <th>4</th>\n",
              "      <td>마주보다</td>\n",
              "      <td>칼 라르손 (Carl Larsson)</td>\n",
              "      <td>#사실주의 #로멘틱 #힐링</td>\n",
              "      <td>43,000</td>\n",
              "      <td>https://www.wart.co.kr/product/%EB%A7%88%EC%A3...</td>\n",
              "      <td>Masterpiece</td>\n",
              "    </tr>\n",
              "    <tr>\n",
              "      <th>5</th>\n",
              "      <td>숨바꼭질</td>\n",
              "      <td>칼 라르손 (Carl Larsson)</td>\n",
              "      <td>#사실주의 #소박함 #힐링</td>\n",
              "      <td>43,000</td>\n",
              "      <td>https://www.wart.co.kr/product/%EC%88%A8%EB%B0...</td>\n",
              "      <td>Masterpiece</td>\n",
              "    </tr>\n",
              "  </tbody>\n",
              "</table>\n",
              "</div>\n",
              "      <button class=\"colab-df-convert\" onclick=\"convertToInteractive('df-72635681-af85-4abf-a418-79a413d20635')\"\n",
              "              title=\"Convert this dataframe to an interactive table.\"\n",
              "              style=\"display:none;\">\n",
              "        \n",
              "  <svg xmlns=\"http://www.w3.org/2000/svg\" height=\"24px\"viewBox=\"0 0 24 24\"\n",
              "       width=\"24px\">\n",
              "    <path d=\"M0 0h24v24H0V0z\" fill=\"none\"/>\n",
              "    <path d=\"M18.56 5.44l.94 2.06.94-2.06 2.06-.94-2.06-.94-.94-2.06-.94 2.06-2.06.94zm-11 1L8.5 8.5l.94-2.06 2.06-.94-2.06-.94L8.5 2.5l-.94 2.06-2.06.94zm10 10l.94 2.06.94-2.06 2.06-.94-2.06-.94-.94-2.06-.94 2.06-2.06.94z\"/><path d=\"M17.41 7.96l-1.37-1.37c-.4-.4-.92-.59-1.43-.59-.52 0-1.04.2-1.43.59L10.3 9.45l-7.72 7.72c-.78.78-.78 2.05 0 2.83L4 21.41c.39.39.9.59 1.41.59.51 0 1.02-.2 1.41-.59l7.78-7.78 2.81-2.81c.8-.78.8-2.07 0-2.86zM5.41 20L4 18.59l7.72-7.72 1.47 1.35L5.41 20z\"/>\n",
              "  </svg>\n",
              "      </button>\n",
              "      \n",
              "  <style>\n",
              "    .colab-df-container {\n",
              "      display:flex;\n",
              "      flex-wrap:wrap;\n",
              "      gap: 12px;\n",
              "    }\n",
              "\n",
              "    .colab-df-convert {\n",
              "      background-color: #E8F0FE;\n",
              "      border: none;\n",
              "      border-radius: 50%;\n",
              "      cursor: pointer;\n",
              "      display: none;\n",
              "      fill: #1967D2;\n",
              "      height: 32px;\n",
              "      padding: 0 0 0 0;\n",
              "      width: 32px;\n",
              "    }\n",
              "\n",
              "    .colab-df-convert:hover {\n",
              "      background-color: #E2EBFA;\n",
              "      box-shadow: 0px 1px 2px rgba(60, 64, 67, 0.3), 0px 1px 3px 1px rgba(60, 64, 67, 0.15);\n",
              "      fill: #174EA6;\n",
              "    }\n",
              "\n",
              "    [theme=dark] .colab-df-convert {\n",
              "      background-color: #3B4455;\n",
              "      fill: #D2E3FC;\n",
              "    }\n",
              "\n",
              "    [theme=dark] .colab-df-convert:hover {\n",
              "      background-color: #434B5C;\n",
              "      box-shadow: 0px 1px 3px 1px rgba(0, 0, 0, 0.15);\n",
              "      filter: drop-shadow(0px 1px 2px rgba(0, 0, 0, 0.3));\n",
              "      fill: #FFFFFF;\n",
              "    }\n",
              "  </style>\n",
              "\n",
              "      <script>\n",
              "        const buttonEl =\n",
              "          document.querySelector('#df-72635681-af85-4abf-a418-79a413d20635 button.colab-df-convert');\n",
              "        buttonEl.style.display =\n",
              "          google.colab.kernel.accessAllowed ? 'block' : 'none';\n",
              "\n",
              "        async function convertToInteractive(key) {\n",
              "          const element = document.querySelector('#df-72635681-af85-4abf-a418-79a413d20635');\n",
              "          const dataTable =\n",
              "            await google.colab.kernel.invokeFunction('convertToInteractive',\n",
              "                                                     [key], {});\n",
              "          if (!dataTable) return;\n",
              "\n",
              "          const docLinkHtml = 'Like what you see? Visit the ' +\n",
              "            '<a target=\"_blank\" href=https://colab.research.google.com/notebooks/data_table.ipynb>data table notebook</a>'\n",
              "            + ' to learn more about interactive tables.';\n",
              "          element.innerHTML = '';\n",
              "          dataTable['output_type'] = 'display_data';\n",
              "          await google.colab.output.renderOutput(dataTable, element);\n",
              "          const docLink = document.createElement('div');\n",
              "          docLink.innerHTML = docLinkHtml;\n",
              "          element.appendChild(docLink);\n",
              "        }\n",
              "      </script>\n",
              "    </div>\n",
              "  </div>\n",
              "  "
            ]
          },
          "metadata": {},
          "execution_count": 39
        }
      ]
    },
    {
      "cell_type": "code",
      "source": [
        "from sklearn.feature_extraction.text import CountVectorizer\n",
        "from sklearn.metrics.pairwise import cosine_similarity\n",
        "\n",
        "vect = CountVectorizer()\n",
        "vect.fit(Masterpiece.iloc[4, 1:3]) # 입력 받은 데이터\n",
        "vect.fit(Masterpiece.iloc[5, 1:3]) # 비교 데이터\n",
        "print(vect.vocabulary_)\n",
        "\n",
        "test1 = vect.transform(Masterpiece.iloc[4, 1:3])\n",
        "test2 = vect.transform(Masterpiece.iloc[5, 1:3])\n",
        "\n",
        "preds = []\n",
        "for t1, t2 in zip(test1, test2):\n",
        "    preds.append(cosine_similarity(t1, t2))\n",
        "preds = np.reshape(preds, len(preds))\n",
        "preds"
      ],
      "metadata": {
        "colab": {
          "base_uri": "https://localhost:8080/"
        },
        "id": "-sWoNmyMkSaE",
        "outputId": "0807613d-fa17-44c0-8e3d-e3a0d3f1541f"
      },
      "execution_count": 40,
      "outputs": [
        {
          "output_type": "stream",
          "name": "stdout",
          "text": [
            "{'라르손': 2, 'carl': 0, 'larsson': 1, '사실주의': 3, '소박함': 4, '힐링': 5}\n"
          ]
        },
        {
          "output_type": "execute_result",
          "data": {
            "text/plain": [
              "array([1.        , 0.81649658])"
            ]
          },
          "metadata": {},
          "execution_count": 40
        }
      ]
    }
  ]
}