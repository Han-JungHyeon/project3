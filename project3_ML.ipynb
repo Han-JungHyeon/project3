{
  "nbformat": 4,
  "nbformat_minor": 0,
  "metadata": {
    "colab": {
      "provenance": [],
      "mount_file_id": "18HhLYLUE-UsMp7L61yiQCNQrVwk1pSGU",
      "authorship_tag": "ABX9TyOK8LF6ODYo/hJE8G8ESPVL",
      "include_colab_link": true
    },
    "kernelspec": {
      "name": "python3",
      "display_name": "Python 3"
    },
    "language_info": {
      "name": "python"
    }
  },
  "cells": [
    {
      "cell_type": "markdown",
      "metadata": {
        "id": "view-in-github",
        "colab_type": "text"
      },
      "source": [
        "<a href=\"https://colab.research.google.com/github/Han-JungHyeon/project3/blob/main/project3_ML.ipynb\" target=\"_parent\"><img src=\"https://colab.research.google.com/assets/colab-badge.svg\" alt=\"Open In Colab\"/></a>"
      ]
    },
    {
      "cell_type": "code",
      "source": [
        "import re\n",
        "import numpy as np\n",
        "import pandas as pd"
      ],
      "metadata": {
        "id": "gZxIte1gjE6d"
      },
      "execution_count": 1,
      "outputs": []
    },
    {
      "cell_type": "code",
      "execution_count": 2,
      "metadata": {
        "colab": {
          "base_uri": "https://localhost:8080/"
        },
        "id": "hZais22MjDBy",
        "outputId": "99ace6d4-cb37-464a-b8bb-ac81a47223ac"
      },
      "outputs": [
        {
          "output_type": "stream",
          "name": "stdout",
          "text": [
            "Mounted at /content/drive\n"
          ]
        }
      ],
      "source": [
        "from google.colab import drive\n",
        "drive.mount('/content/drive')"
      ]
    },
    {
      "cell_type": "code",
      "source": [
        "Oriental = pd.read_csv('/content/drive/MyDrive/Colab data (Project3)/Oriental_Painting.csv')\n",
        "Masterpiece = pd.read_csv('/content/drive/MyDrive/Colab data (Project3)/Masterpiece.csv')\n",
        "Abstract = pd.read_csv('/content/drive/MyDrive/Colab data (Project3)/Abstract.csv')\n",
        "Contemporary_art = pd.read_csv('/content/drive/MyDrive/Colab data (Project3)/Contemporary_Art.csv')\n",
        "Picture = pd.read_csv('/content/drive/MyDrive/Colab data (Project3)/Picture.csv')\n",
        "Illust = pd.read_csv('/content/drive/MyDrive/Colab data (Project3)/Illust.csv')\n",
        "data = pd.read_csv('/content/drive/MyDrive/Colab data (Project3)/data.csv')"
      ],
      "metadata": {
        "id": "NL8z-BT5jDY5"
      },
      "execution_count": 2,
      "outputs": []
    },
    {
      "cell_type": "code",
      "source": [
        "data.head(3)"
      ],
      "metadata": {
        "colab": {
          "base_uri": "https://localhost:8080/",
          "height": 240
        },
        "id": "Peonaqs-qBQW",
        "outputId": "f2e99bda-e62b-4969-d820-a93fc73bcb2e"
      },
      "execution_count": 3,
      "outputs": [
        {
          "output_type": "execute_result",
          "data": {
            "text/plain": [
              "       Title                 Artist        Hash_tag    Price  \\\n",
              "0  건조대가 있는 집   에곤 쉴레 (Egon Schiele)  #표현주의 #빈티지 #인물  43,000    \n",
              "1      엄마와 딸   에곤 쉴레 (Egon Schiele)  #표현주의 #빈티지 #인물  43,000    \n",
              "2        라일락  파니 브레이트 (Fanny Brate)    #인상주의 #쉐비 #꽃  43,000    \n",
              "\n",
              "                                                 URL         Type  \n",
              "0  https://www.wart.co.kr/product/%EA%B1%B4%EC%A1...  Masterpiece  \n",
              "1  https://www.wart.co.kr/product/%EC%97%84%EB%A7...  Masterpiece  \n",
              "2  https://www.wart.co.kr/product/%EB%9D%BC%EC%9D...  Masterpiece  "
            ],
            "text/html": [
              "\n",
              "  <div id=\"df-c96aceab-03ec-4b15-ac06-f056f1b3c2f5\">\n",
              "    <div class=\"colab-df-container\">\n",
              "      <div>\n",
              "<style scoped>\n",
              "    .dataframe tbody tr th:only-of-type {\n",
              "        vertical-align: middle;\n",
              "    }\n",
              "\n",
              "    .dataframe tbody tr th {\n",
              "        vertical-align: top;\n",
              "    }\n",
              "\n",
              "    .dataframe thead th {\n",
              "        text-align: right;\n",
              "    }\n",
              "</style>\n",
              "<table border=\"1\" class=\"dataframe\">\n",
              "  <thead>\n",
              "    <tr style=\"text-align: right;\">\n",
              "      <th></th>\n",
              "      <th>Title</th>\n",
              "      <th>Artist</th>\n",
              "      <th>Hash_tag</th>\n",
              "      <th>Price</th>\n",
              "      <th>URL</th>\n",
              "      <th>Type</th>\n",
              "    </tr>\n",
              "  </thead>\n",
              "  <tbody>\n",
              "    <tr>\n",
              "      <th>0</th>\n",
              "      <td>건조대가 있는 집</td>\n",
              "      <td>에곤 쉴레 (Egon Schiele)</td>\n",
              "      <td>#표현주의 #빈티지 #인물</td>\n",
              "      <td>43,000</td>\n",
              "      <td>https://www.wart.co.kr/product/%EA%B1%B4%EC%A1...</td>\n",
              "      <td>Masterpiece</td>\n",
              "    </tr>\n",
              "    <tr>\n",
              "      <th>1</th>\n",
              "      <td>엄마와 딸</td>\n",
              "      <td>에곤 쉴레 (Egon Schiele)</td>\n",
              "      <td>#표현주의 #빈티지 #인물</td>\n",
              "      <td>43,000</td>\n",
              "      <td>https://www.wart.co.kr/product/%EC%97%84%EB%A7...</td>\n",
              "      <td>Masterpiece</td>\n",
              "    </tr>\n",
              "    <tr>\n",
              "      <th>2</th>\n",
              "      <td>라일락</td>\n",
              "      <td>파니 브레이트 (Fanny Brate)</td>\n",
              "      <td>#인상주의 #쉐비 #꽃</td>\n",
              "      <td>43,000</td>\n",
              "      <td>https://www.wart.co.kr/product/%EB%9D%BC%EC%9D...</td>\n",
              "      <td>Masterpiece</td>\n",
              "    </tr>\n",
              "  </tbody>\n",
              "</table>\n",
              "</div>\n",
              "      <button class=\"colab-df-convert\" onclick=\"convertToInteractive('df-c96aceab-03ec-4b15-ac06-f056f1b3c2f5')\"\n",
              "              title=\"Convert this dataframe to an interactive table.\"\n",
              "              style=\"display:none;\">\n",
              "        \n",
              "  <svg xmlns=\"http://www.w3.org/2000/svg\" height=\"24px\"viewBox=\"0 0 24 24\"\n",
              "       width=\"24px\">\n",
              "    <path d=\"M0 0h24v24H0V0z\" fill=\"none\"/>\n",
              "    <path d=\"M18.56 5.44l.94 2.06.94-2.06 2.06-.94-2.06-.94-.94-2.06-.94 2.06-2.06.94zm-11 1L8.5 8.5l.94-2.06 2.06-.94-2.06-.94L8.5 2.5l-.94 2.06-2.06.94zm10 10l.94 2.06.94-2.06 2.06-.94-2.06-.94-.94-2.06-.94 2.06-2.06.94z\"/><path d=\"M17.41 7.96l-1.37-1.37c-.4-.4-.92-.59-1.43-.59-.52 0-1.04.2-1.43.59L10.3 9.45l-7.72 7.72c-.78.78-.78 2.05 0 2.83L4 21.41c.39.39.9.59 1.41.59.51 0 1.02-.2 1.41-.59l7.78-7.78 2.81-2.81c.8-.78.8-2.07 0-2.86zM5.41 20L4 18.59l7.72-7.72 1.47 1.35L5.41 20z\"/>\n",
              "  </svg>\n",
              "      </button>\n",
              "      \n",
              "  <style>\n",
              "    .colab-df-container {\n",
              "      display:flex;\n",
              "      flex-wrap:wrap;\n",
              "      gap: 12px;\n",
              "    }\n",
              "\n",
              "    .colab-df-convert {\n",
              "      background-color: #E8F0FE;\n",
              "      border: none;\n",
              "      border-radius: 50%;\n",
              "      cursor: pointer;\n",
              "      display: none;\n",
              "      fill: #1967D2;\n",
              "      height: 32px;\n",
              "      padding: 0 0 0 0;\n",
              "      width: 32px;\n",
              "    }\n",
              "\n",
              "    .colab-df-convert:hover {\n",
              "      background-color: #E2EBFA;\n",
              "      box-shadow: 0px 1px 2px rgba(60, 64, 67, 0.3), 0px 1px 3px 1px rgba(60, 64, 67, 0.15);\n",
              "      fill: #174EA6;\n",
              "    }\n",
              "\n",
              "    [theme=dark] .colab-df-convert {\n",
              "      background-color: #3B4455;\n",
              "      fill: #D2E3FC;\n",
              "    }\n",
              "\n",
              "    [theme=dark] .colab-df-convert:hover {\n",
              "      background-color: #434B5C;\n",
              "      box-shadow: 0px 1px 3px 1px rgba(0, 0, 0, 0.15);\n",
              "      filter: drop-shadow(0px 1px 2px rgba(0, 0, 0, 0.3));\n",
              "      fill: #FFFFFF;\n",
              "    }\n",
              "  </style>\n",
              "\n",
              "      <script>\n",
              "        const buttonEl =\n",
              "          document.querySelector('#df-c96aceab-03ec-4b15-ac06-f056f1b3c2f5 button.colab-df-convert');\n",
              "        buttonEl.style.display =\n",
              "          google.colab.kernel.accessAllowed ? 'block' : 'none';\n",
              "\n",
              "        async function convertToInteractive(key) {\n",
              "          const element = document.querySelector('#df-c96aceab-03ec-4b15-ac06-f056f1b3c2f5');\n",
              "          const dataTable =\n",
              "            await google.colab.kernel.invokeFunction('convertToInteractive',\n",
              "                                                     [key], {});\n",
              "          if (!dataTable) return;\n",
              "\n",
              "          const docLinkHtml = 'Like what you see? Visit the ' +\n",
              "            '<a target=\"_blank\" href=https://colab.research.google.com/notebooks/data_table.ipynb>data table notebook</a>'\n",
              "            + ' to learn more about interactive tables.';\n",
              "          element.innerHTML = '';\n",
              "          dataTable['output_type'] = 'display_data';\n",
              "          await google.colab.output.renderOutput(dataTable, element);\n",
              "          const docLink = document.createElement('div');\n",
              "          docLink.innerHTML = docLinkHtml;\n",
              "          element.appendChild(docLink);\n",
              "        }\n",
              "      </script>\n",
              "    </div>\n",
              "  </div>\n",
              "  "
            ]
          },
          "metadata": {},
          "execution_count": 3
        }
      ]
    },
    {
      "cell_type": "code",
      "source": [
        "from sklearn.feature_extraction.text import TfidfVectorizer\n",
        "from sklearn.metrics.pairwise import cosine_similarity\n",
        "\n",
        "tfidf = TfidfVectorizer(stop_words='english')\n",
        "tfidf_matrix = tfidf.fit_transform(data['Hash_tag'])\n",
        "print('TF-IDF 행렬의 크기(shape) :',tfidf_matrix.shape)\n",
        "\n",
        "cosine_sim = cosine_similarity(tfidf_matrix, tfidf_matrix)\n",
        "print('코사인 유사도 연산 결과 :',cosine_sim.shape)"
      ],
      "metadata": {
        "colab": {
          "base_uri": "https://localhost:8080/"
        },
        "id": "kcH3SDVmwB5k",
        "outputId": "0dbeb67d-3d79-4587-d83d-da19c3143ce6"
      },
      "execution_count": 7,
      "outputs": [
        {
          "output_type": "stream",
          "name": "stdout",
          "text": [
            "TF-IDF 행렬의 크기(shape) : (4307, 196)\n",
            "코사인 유사도 연산 결과 : (4307, 4307)\n"
          ]
        }
      ]
    },
    {
      "cell_type": "code",
      "source": [
        "title_to_index = dict(zip(data['Title'], data.index))"
      ],
      "metadata": {
        "id": "GxhavBiGxJtY"
      },
      "execution_count": 12,
      "outputs": []
    },
    {
      "cell_type": "code",
      "source": [
        "def get_recommendations(title, cosine_sim=cosine_sim):\n",
        "    # 선택한 그림의 타이틀로부터 해당 그림의 인덱스를 받아온다.\n",
        "    idx = title_to_index[title]\n",
        "\n",
        "    # 해당 그림와 모든 그림와의 유사도를 가져온다.\n",
        "    sim_scores = list(enumerate(cosine_sim[idx]))\n",
        "\n",
        "    # 유사도에 따라 그림들을 정렬한다.\n",
        "    sim_scores = sorted(sim_scores, key=lambda x: x[1], reverse=True)\n",
        "\n",
        "    # 가장 유사한 5개의 그림를 받아온다.\n",
        "    sim_scores = sim_scores[1:6]\n",
        "\n",
        "    # 가장 유사한 5개의 그림의 인덱스를 얻는다.\n",
        "    movie_indices = [idx[0] for idx in sim_scores]\n",
        "\n",
        "    # 가장 유사한 5개의 그림의 제목을 리턴한다.\n",
        "    return data[['Title', 'Artist', 'Price', 'URL']].iloc[movie_indices]"
      ],
      "metadata": {
        "id": "I8O5Mg1lwn9D"
      },
      "execution_count": 46,
      "outputs": []
    },
    {
      "cell_type": "code",
      "source": [
        "get_recommendations('왕의 슬픔')"
      ],
      "metadata": {
        "colab": {
          "base_uri": "https://localhost:8080/",
          "height": 206
        },
        "id": "7-rmQgtAxcNn",
        "outputId": "5c5659f9-baa3-4292-8755-1042857a2142"
      },
      "execution_count": 50,
      "outputs": [
        {
          "output_type": "execute_result",
          "data": {
            "text/plain": [
              "           Title                  Artist    Price  \\\n",
              "243         핑크다발      라울 뒤피 (Raoul Dufy)  43,000    \n",
              "248         아네모네      라울 뒤피 (Raoul Dufy)  43,000    \n",
              "2001   오세아니아의 기억  앙리 마티스 (Henri Matisse)  58,000    \n",
              "1898  노랑과 파랑의 실내  앙리 마티스 (Henri Matisse)  58,000    \n",
              "1930    폴리네시아 바다  앙리 마티스 (Henri Matisse)  58,000    \n",
              "\n",
              "                                                    URL  \n",
              "243   https://www.wart.co.kr/product/%ED%95%91%ED%81...  \n",
              "248   https://www.wart.co.kr/product/%EC%95%84%EB%84...  \n",
              "2001  https://www.wart.co.kr/product/%EC%98%A4%EC%84...  \n",
              "1898  https://www.wart.co.kr/product/%EB%85%B8%EB%9E...  \n",
              "1930  https://www.wart.co.kr/product/%ED%8F%B4%EB%A6...  "
            ],
            "text/html": [
              "\n",
              "  <div id=\"df-f6f8d4ab-f082-47fd-8671-99d2e9d95f74\">\n",
              "    <div class=\"colab-df-container\">\n",
              "      <div>\n",
              "<style scoped>\n",
              "    .dataframe tbody tr th:only-of-type {\n",
              "        vertical-align: middle;\n",
              "    }\n",
              "\n",
              "    .dataframe tbody tr th {\n",
              "        vertical-align: top;\n",
              "    }\n",
              "\n",
              "    .dataframe thead th {\n",
              "        text-align: right;\n",
              "    }\n",
              "</style>\n",
              "<table border=\"1\" class=\"dataframe\">\n",
              "  <thead>\n",
              "    <tr style=\"text-align: right;\">\n",
              "      <th></th>\n",
              "      <th>Title</th>\n",
              "      <th>Artist</th>\n",
              "      <th>Price</th>\n",
              "      <th>URL</th>\n",
              "    </tr>\n",
              "  </thead>\n",
              "  <tbody>\n",
              "    <tr>\n",
              "      <th>243</th>\n",
              "      <td>핑크다발</td>\n",
              "      <td>라울 뒤피 (Raoul Dufy)</td>\n",
              "      <td>43,000</td>\n",
              "      <td>https://www.wart.co.kr/product/%ED%95%91%ED%81...</td>\n",
              "    </tr>\n",
              "    <tr>\n",
              "      <th>248</th>\n",
              "      <td>아네모네</td>\n",
              "      <td>라울 뒤피 (Raoul Dufy)</td>\n",
              "      <td>43,000</td>\n",
              "      <td>https://www.wart.co.kr/product/%EC%95%84%EB%84...</td>\n",
              "    </tr>\n",
              "    <tr>\n",
              "      <th>2001</th>\n",
              "      <td>오세아니아의 기억</td>\n",
              "      <td>앙리 마티스 (Henri Matisse)</td>\n",
              "      <td>58,000</td>\n",
              "      <td>https://www.wart.co.kr/product/%EC%98%A4%EC%84...</td>\n",
              "    </tr>\n",
              "    <tr>\n",
              "      <th>1898</th>\n",
              "      <td>노랑과 파랑의 실내</td>\n",
              "      <td>앙리 마티스 (Henri Matisse)</td>\n",
              "      <td>58,000</td>\n",
              "      <td>https://www.wart.co.kr/product/%EB%85%B8%EB%9E...</td>\n",
              "    </tr>\n",
              "    <tr>\n",
              "      <th>1930</th>\n",
              "      <td>폴리네시아 바다</td>\n",
              "      <td>앙리 마티스 (Henri Matisse)</td>\n",
              "      <td>58,000</td>\n",
              "      <td>https://www.wart.co.kr/product/%ED%8F%B4%EB%A6...</td>\n",
              "    </tr>\n",
              "  </tbody>\n",
              "</table>\n",
              "</div>\n",
              "      <button class=\"colab-df-convert\" onclick=\"convertToInteractive('df-f6f8d4ab-f082-47fd-8671-99d2e9d95f74')\"\n",
              "              title=\"Convert this dataframe to an interactive table.\"\n",
              "              style=\"display:none;\">\n",
              "        \n",
              "  <svg xmlns=\"http://www.w3.org/2000/svg\" height=\"24px\"viewBox=\"0 0 24 24\"\n",
              "       width=\"24px\">\n",
              "    <path d=\"M0 0h24v24H0V0z\" fill=\"none\"/>\n",
              "    <path d=\"M18.56 5.44l.94 2.06.94-2.06 2.06-.94-2.06-.94-.94-2.06-.94 2.06-2.06.94zm-11 1L8.5 8.5l.94-2.06 2.06-.94-2.06-.94L8.5 2.5l-.94 2.06-2.06.94zm10 10l.94 2.06.94-2.06 2.06-.94-2.06-.94-.94-2.06-.94 2.06-2.06.94z\"/><path d=\"M17.41 7.96l-1.37-1.37c-.4-.4-.92-.59-1.43-.59-.52 0-1.04.2-1.43.59L10.3 9.45l-7.72 7.72c-.78.78-.78 2.05 0 2.83L4 21.41c.39.39.9.59 1.41.59.51 0 1.02-.2 1.41-.59l7.78-7.78 2.81-2.81c.8-.78.8-2.07 0-2.86zM5.41 20L4 18.59l7.72-7.72 1.47 1.35L5.41 20z\"/>\n",
              "  </svg>\n",
              "      </button>\n",
              "      \n",
              "  <style>\n",
              "    .colab-df-container {\n",
              "      display:flex;\n",
              "      flex-wrap:wrap;\n",
              "      gap: 12px;\n",
              "    }\n",
              "\n",
              "    .colab-df-convert {\n",
              "      background-color: #E8F0FE;\n",
              "      border: none;\n",
              "      border-radius: 50%;\n",
              "      cursor: pointer;\n",
              "      display: none;\n",
              "      fill: #1967D2;\n",
              "      height: 32px;\n",
              "      padding: 0 0 0 0;\n",
              "      width: 32px;\n",
              "    }\n",
              "\n",
              "    .colab-df-convert:hover {\n",
              "      background-color: #E2EBFA;\n",
              "      box-shadow: 0px 1px 2px rgba(60, 64, 67, 0.3), 0px 1px 3px 1px rgba(60, 64, 67, 0.15);\n",
              "      fill: #174EA6;\n",
              "    }\n",
              "\n",
              "    [theme=dark] .colab-df-convert {\n",
              "      background-color: #3B4455;\n",
              "      fill: #D2E3FC;\n",
              "    }\n",
              "\n",
              "    [theme=dark] .colab-df-convert:hover {\n",
              "      background-color: #434B5C;\n",
              "      box-shadow: 0px 1px 3px 1px rgba(0, 0, 0, 0.15);\n",
              "      filter: drop-shadow(0px 1px 2px rgba(0, 0, 0, 0.3));\n",
              "      fill: #FFFFFF;\n",
              "    }\n",
              "  </style>\n",
              "\n",
              "      <script>\n",
              "        const buttonEl =\n",
              "          document.querySelector('#df-f6f8d4ab-f082-47fd-8671-99d2e9d95f74 button.colab-df-convert');\n",
              "        buttonEl.style.display =\n",
              "          google.colab.kernel.accessAllowed ? 'block' : 'none';\n",
              "\n",
              "        async function convertToInteractive(key) {\n",
              "          const element = document.querySelector('#df-f6f8d4ab-f082-47fd-8671-99d2e9d95f74');\n",
              "          const dataTable =\n",
              "            await google.colab.kernel.invokeFunction('convertToInteractive',\n",
              "                                                     [key], {});\n",
              "          if (!dataTable) return;\n",
              "\n",
              "          const docLinkHtml = 'Like what you see? Visit the ' +\n",
              "            '<a target=\"_blank\" href=https://colab.research.google.com/notebooks/data_table.ipynb>data table notebook</a>'\n",
              "            + ' to learn more about interactive tables.';\n",
              "          element.innerHTML = '';\n",
              "          dataTable['output_type'] = 'display_data';\n",
              "          await google.colab.output.renderOutput(dataTable, element);\n",
              "          const docLink = document.createElement('div');\n",
              "          docLink.innerHTML = docLinkHtml;\n",
              "          element.appendChild(docLink);\n",
              "        }\n",
              "      </script>\n",
              "    </div>\n",
              "  </div>\n",
              "  "
            ]
          },
          "metadata": {},
          "execution_count": 50
        }
      ]
    }
  ]
}